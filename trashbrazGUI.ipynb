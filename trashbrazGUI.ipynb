{
 "cells": [
  {
   "cell_type": "code",
   "execution_count": null,
   "metadata": {},
   "outputs": [],
   "source": [
    "import pandas as pd \n",
    "df = pd.read_csv(\"/Users/joerg/repos/brazGUI/csv_data/df_final_30_05_23.csv\", index_col=[0])\n"
   ]
  },
  {
   "cell_type": "code",
   "execution_count": null,
   "metadata": {},
   "outputs": [],
   "source": [
    "def _color_red_or_green(val):\n",
    "    color = 'red' if 'happy' in val else 'green'\n",
    "    return 'color: %s' % color\n"
   ]
  },
  {
   "cell_type": "code",
   "execution_count": null,
   "metadata": {},
   "outputs": [],
   "source": [
    "df_ = df.head()\n"
   ]
  },
  {
   "cell_type": "code",
   "execution_count": null,
   "metadata": {},
   "outputs": [],
   "source": [
    "df_.style.applymap(_color_red_or_green)"
   ]
  },
  {
   "cell_type": "code",
   "execution_count": 27,
   "metadata": {},
   "outputs": [],
   "source": [
    "import pandas as pd \n",
    "df = pd.read_csv(r\"/Users/joerg/repos/brazGUI/csv_data/df_final_30_05_23.csv\", index_col=[0])"
   ]
  },
  {
   "cell_type": "code",
   "execution_count": 30,
   "metadata": {},
   "outputs": [
    {
     "name": "stdout",
     "output_type": "stream",
     "text": [
      "ctn of 1080p-titles: 525\n",
      "ctn of 720p-titles: 1559\n",
      "ctn of 480p-titles: 190\n",
      "ctn of 360p-titles: 4\n",
      "Overall sum: 525 + 1559 + 190 + 4 = 2278\n",
      "Control: len(lst_titles) = 2278\n",
      "=====\n"
     ]
    }
   ],
   "source": [
    "lst_titles = list(df['Title'])\n",
    "ctn_1080p_titles = 0\n",
    "ctn_720p_titles = 0\n",
    "ctn_480p_titles = 0\n",
    "ctn_360p_titles = 0\n",
    "\n",
    "lst_titles_tmp = lst_titles[:]\n",
    "\n",
    "substring_360p = '360p'\n",
    "substring_480p = '480p'\n",
    "substring_720p = '720p'\n",
    "substring_1080p = '1080p'\n",
    "\n",
    "count = 0\n",
    "\n",
    "for string in lst_titles_tmp:\n",
    "    if substring_1080p in string:\n",
    "        ctn_1080p_titles += 1\n",
    "    elif substring_720p in string:\n",
    "        ctn_720p_titles += 1\n",
    "    elif substring_480p in string:\n",
    "        ctn_480p_titles += 1\n",
    "    elif substring_360p in string:\n",
    "        ctn_360p_titles += 1\n",
    "    else:\n",
    "        print(f\"Missing resolution: in {string}\")\n",
    "\n",
    "\n",
    "# print(f\"Der Substring '{substring_720p}' kommt {ctn_720p_titles} Mal in der Liste vor.\")\n",
    "\n",
    "print(f\"ctn of 1080p-titles: {ctn_1080p_titles}\")\n",
    "print(f\"ctn of 720p-titles: {ctn_720p_titles}\")\n",
    "print(f\"ctn of 480p-titles: {ctn_480p_titles}\")\n",
    "print(f\"ctn of 360p-titles: {ctn_360p_titles}\")\n",
    "\n",
    "print(f\"Overall sum: {ctn_1080p_titles} + {ctn_720p_titles} + {ctn_480p_titles} + {ctn_360p_titles} = {ctn_1080p_titles + ctn_720p_titles + ctn_480p_titles + ctn_360p_titles}\")\n",
    "print(f\"Control: len(lst_titles) = {len(lst_titles)}\")\n",
    "\n",
    "print(\"=====\")\n",
    "\n"
   ]
  },
  {
   "cell_type": "code",
   "execution_count": null,
   "metadata": {},
   "outputs": [],
   "source": [
    "for nr, lf in enumerate(lst_titles[:]):\n",
    "    \n",
    "    res = lf\n",
    "\n",
    "    if \"p\" not in res:\n",
    "        print(f\"{lf}, {nr}\")\n"
   ]
  }
 ],
 "metadata": {
  "kernelspec": {
   "display_name": "pyside2_dev",
   "language": "python",
   "name": "python3"
  },
  "language_info": {
   "codemirror_mode": {
    "name": "ipython",
    "version": 3
   },
   "file_extension": ".py",
   "mimetype": "text/x-python",
   "name": "python",
   "nbconvert_exporter": "python",
   "pygments_lexer": "ipython3",
   "version": "3.10.6"
  },
  "orig_nbformat": 4
 },
 "nbformat": 4,
 "nbformat_minor": 2
}
