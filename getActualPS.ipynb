{
 "cells": [
  {
   "cell_type": "code",
   "execution_count": null,
   "metadata": {},
   "outputs": [],
   "source": [
    "%reload_ext autoreload\n",
    "\n"
   ]
  },
  {
   "cell_type": "code",
   "execution_count": null,
   "metadata": {},
   "outputs": [],
   "source": [
    "%autoreload 2\n",
    "import pandas as pd\n",
    "from dfActualPS import dfActualPS\n",
    "# from dfActualPS import getMissingTitles\n",
    "# from create_df_actual_ps2 import createDfActualPS\n"
   ]
  },
  {
   "cell_type": "code",
   "execution_count": null,
   "metadata": {},
   "outputs": [],
   "source": [
    "actual_ps = 'Shyla Stylez'\n",
    "chosen_model_brazz_site = 'https://www.brazzers.com/videos/models/403/shyla-stylez/page'\n",
    "max_page_len_of_chosen_model = [2]\n",
    "csv_final = 'df_final_10_03_23.csv'\n"
   ]
  },
  {
   "cell_type": "code",
   "execution_count": null,
   "metadata": {},
   "outputs": [],
   "source": [
    "actual_ps = 'Sienna West'\n",
    "chosen_model_brazz_site = 'https://www.brazzers.com/videos/models/555/sienna-west/page/'\n",
    "max_page_len_of_chosen_model = [2]\n",
    "csv_final = 'df_final_30_05_23.csv'\n",
    "df_class_ps_sw = dfActualPS(actual_ps, chosen_model_brazz_site, max_page_len_of_chosen_model, csv_final)\n",
    "\n"
   ]
  },
  {
   "cell_type": "code",
   "execution_count": null,
   "metadata": {},
   "outputs": [],
   "source": [
    "df_chosen_ps_sw = df_class_ps_sw.createDfActualPS()\n",
    "df_chosen_ps_sw"
   ]
  },
  {
   "cell_type": "code",
   "execution_count": null,
   "metadata": {},
   "outputs": [],
   "source": [
    "df_actual_titles_sw = df_class_ps_sw.getTitlesInDfFinal()\n",
    "df_actual_titles_sw"
   ]
  },
  {
   "cell_type": "code",
   "execution_count": null,
   "metadata": {},
   "outputs": [],
   "source": [
    "df_missing_titles_sw = df_class_ps_sw.getMissingTitles()\n",
    "df_missing_titles_sw"
   ]
  },
  {
   "cell_type": "code",
   "execution_count": null,
   "metadata": {},
   "outputs": [],
   "source": [
    "actual_ps = 'Tarra White'\n",
    "chosen_model_brazz_site = 'https://www.brazzers.com/videos/models/8193/tarra-white/page/'\n",
    "max_page_len_of_chosen_model = [1]\n",
    "csv_final = 'df_final_10_03_23.csv'\n",
    "df_class_ps_tw = dfActualPS(actual_ps, chosen_model_brazz_site, max_page_len_of_chosen_model, csv_final)"
   ]
  },
  {
   "cell_type": "code",
   "execution_count": null,
   "metadata": {},
   "outputs": [],
   "source": [
    "df_chosen_ps_tw = df_class_ps_tw.createDfActualPS()\n",
    "df_chosen_ps_tw"
   ]
  },
  {
   "cell_type": "code",
   "execution_count": null,
   "metadata": {},
   "outputs": [],
   "source": [
    "df_actual_titles_tw = df_class_ps_tw.getTitlesInDfFinal()\n",
    "df_actual_titles_tw"
   ]
  },
  {
   "cell_type": "code",
   "execution_count": null,
   "metadata": {},
   "outputs": [],
   "source": [
    "missing_titles_tw = df_class_ps_tw.getMissingTitles()\n",
    "missing_titles_tw"
   ]
  },
  {
   "cell_type": "markdown",
   "metadata": {},
   "source": [
    "***"
   ]
  },
  {
   "cell_type": "code",
   "execution_count": null,
   "metadata": {},
   "outputs": [],
   "source": [
    "actual_ps = 'Jillian Janson'\n",
    "chosen_model_brazz_site = 'https://www.brazzers.com/videos/models/379/jillian-janson/page/'\n",
    "max_page_len_of_chosen_model = [1]\n",
    "csv_final = 'df_final_30_05_23.csv'\n",
    "df_class_ps_jj = dfActualPS(actual_ps, chosen_model_brazz_site, max_page_len_of_chosen_model, csv_final)"
   ]
  },
  {
   "cell_type": "code",
   "execution_count": null,
   "metadata": {},
   "outputs": [],
   "source": [
    "df_chosen_ps_jj = df_class_ps_jj.createDfActualPS()\n",
    "df_chosen_ps_jj"
   ]
  },
  {
   "cell_type": "code",
   "execution_count": null,
   "metadata": {},
   "outputs": [],
   "source": [
    "df_actual_titles_jj = df_class_ps_jj.getTitlesInDfFinal()\n",
    "df_actual_titles_jj"
   ]
  },
  {
   "cell_type": "code",
   "execution_count": null,
   "metadata": {},
   "outputs": [],
   "source": [
    "df_class_ps_jj.getMissingTitles()"
   ]
  },
  {
   "cell_type": "code",
   "execution_count": null,
   "metadata": {},
   "outputs": [],
   "source": [
    "from dfActualPS import dfActualPS"
   ]
  },
  {
   "cell_type": "code",
   "execution_count": null,
   "metadata": {},
   "outputs": [],
   "source": [
    "df_actual_titles_tw = df_class_ps_tw.getTitlesInDfFinal()\n",
    "df_actual_titles_tw"
   ]
  },
  {
   "attachments": {},
   "cell_type": "markdown",
   "metadata": {},
   "source": [
    "# Sophie Dee"
   ]
  },
  {
   "cell_type": "code",
   "execution_count": null,
   "metadata": {},
   "outputs": [],
   "source": [
    "from dfActualPS import dfActualPS\n",
    "actual_ps = 'Sophie Dee'\n",
    "chosen_model_brazz_site = 'https://www.brazzers.com/videos/models/2761/sophie-dee/page/'\n",
    "max_page_len_of_chosen_model = [1]\n",
    "csv_final = 'df_final_30_05_23.csv'\n",
    "df_class_sd = dfActualPS(actual_ps, chosen_model_brazz_site, max_page_len_of_chosen_model, csv_final)"
   ]
  },
  {
   "cell_type": "code",
   "execution_count": null,
   "metadata": {},
   "outputs": [],
   "source": [
    "df_chosen_sd = df_class_sd.createDfActualPS()"
   ]
  },
  {
   "cell_type": "code",
   "execution_count": null,
   "metadata": {},
   "outputs": [],
   "source": [
    "df_class_sd.getTitlesInDfFinal()\n"
   ]
  },
  {
   "cell_type": "code",
   "execution_count": null,
   "metadata": {},
   "outputs": [],
   "source": [
    "df_class_sd.getMissingTitles()"
   ]
  },
  {
   "attachments": {},
   "cell_type": "markdown",
   "metadata": {},
   "source": [
    "# Sarah Jessie"
   ]
  },
  {
   "cell_type": "code",
   "execution_count": null,
   "metadata": {},
   "outputs": [],
   "source": [
    "from dfActualPS import dfActualPS\n",
    "actual_ps = 'Sarah Jessie'\n",
    "chosen_model_brazz_site = 'https://www.brazzers.com/videos/models/2939/sarah-jessie/page/'\n",
    "max_page_len_of_chosen_model = [1]\n",
    "csv_final = r'/Users/joerg/repos/brazGUI/csv_data/df_final_30_05_23.csv'\n",
    "df_class_sarah_jessie = dfActualPS(actual_ps, chosen_model_brazz_site, max_page_len_of_chosen_model, csv_final)"
   ]
  },
  {
   "cell_type": "code",
   "execution_count": null,
   "metadata": {},
   "outputs": [],
   "source": [
    "df_chosen_sarah_jessie = df_class_sarah_jessie.createDfActualPS()"
   ]
  },
  {
   "cell_type": "code",
   "execution_count": null,
   "metadata": {},
   "outputs": [],
   "source": [
    "df_class_sarah_jessie.getTitlesInDfFinal()"
   ]
  },
  {
   "cell_type": "code",
   "execution_count": null,
   "metadata": {},
   "outputs": [],
   "source": [
    "df_class_sarah_jessie.getMissingTitles()"
   ]
  },
  {
   "attachments": {},
   "cell_type": "markdown",
   "metadata": {},
   "source": [
    "# Lisa Ann"
   ]
  },
  {
   "cell_type": "code",
   "execution_count": null,
   "metadata": {},
   "outputs": [],
   "source": [
    "\n",
    "from dfActualPS import dfActualPS\n",
    "actual_ps = 'Lisa Ann'\n",
    "chosen_model_brazz_site = 'https://www.brazzers.com/videos/models/8295/lisa-ann/page/'\n",
    "max_page_len_of_chosen_model = [3]\n",
    "csv_final = r'/Users/joerg/repos/brazGUI/csv_data/df_final_30_05_23.csv'\n",
    "df_class_la = dfActualPS(actual_ps, chosen_model_brazz_site, max_page_len_of_chosen_model, csv_final)\n",
    "\n"
   ]
  },
  {
   "cell_type": "code",
   "execution_count": null,
   "metadata": {},
   "outputs": [],
   "source": [
    "# df_class_la.search_titles(df_ps_for_search, \"date\")\n",
    "df_chosen_la = df_class_la.createDfActualPS()"
   ]
  },
  {
   "cell_type": "code",
   "execution_count": null,
   "metadata": {},
   "outputs": [],
   "source": [
    "df_class_la.getTitlesInDfFinal()"
   ]
  },
  {
   "cell_type": "code",
   "execution_count": null,
   "metadata": {},
   "outputs": [],
   "source": [
    "df_class_la.getMissingTitles()"
   ]
  },
  {
   "attachments": {},
   "cell_type": "markdown",
   "metadata": {},
   "source": [
    "# Kenzie Taylor"
   ]
  },
  {
   "cell_type": "code",
   "execution_count": null,
   "metadata": {},
   "outputs": [],
   "source": [
    "from dfActualPS import dfActualPS\n",
    "actual_ps = 'Kenzie Taylor'\n",
    "chosen_model_brazz_site = 'https://www.brazzers.com/videos/models/251/kenzie-taylor/page/'\n",
    "max_page_len_of_chosen_model = [1]\n",
    "csv_final = r'/Users/joerg/repos/brazGUI/csv_data/df_final_30_05_23.csv'\n",
    "df_class_kenzie_kaylor = dfActualPS(actual_ps, chosen_model_brazz_site, max_page_len_of_chosen_model, csv_final)"
   ]
  },
  {
   "cell_type": "code",
   "execution_count": null,
   "metadata": {},
   "outputs": [],
   "source": [
    "df_chosen_kenzie_taylor = df_class_kenzie_kaylor.createDfActualPS()"
   ]
  },
  {
   "cell_type": "code",
   "execution_count": null,
   "metadata": {},
   "outputs": [],
   "source": [
    "df_chosen_kenzie_taylor"
   ]
  },
  {
   "cell_type": "code",
   "execution_count": null,
   "metadata": {},
   "outputs": [],
   "source": [
    "df_class_kenzie_kaylor.getTitlesInDfFinal()"
   ]
  },
  {
   "cell_type": "code",
   "execution_count": null,
   "metadata": {},
   "outputs": [],
   "source": [
    "df_class_kenzie_kaylor.getMissingTitles()"
   ]
  },
  {
   "attachments": {},
   "cell_type": "markdown",
   "metadata": {},
   "source": [
    "# Megan Rain"
   ]
  },
  {
   "cell_type": "code",
   "execution_count": null,
   "metadata": {},
   "outputs": [],
   "source": [
    "from dfActualPS import dfActualPS\n",
    "actual_ps = 'Megan Rain'\n",
    "chosen_model_brazz_site = 'https://www.brazzers.com/videos/models/6241/megan-rain/page/'\n",
    "max_page_len_of_chosen_model = [1]\n",
    "csv_final = r'/Users/joerg/repos/brazGUI/csv_data/df_final_30_05_23.csv'\n",
    "df_class_megan_rain = dfActualPS(actual_ps, chosen_model_brazz_site, max_page_len_of_chosen_model, csv_final)"
   ]
  },
  {
   "cell_type": "code",
   "execution_count": null,
   "metadata": {},
   "outputs": [],
   "source": [
    "df_chosen_megan_rain = df_class_megan_rain.createDfActualPS()"
   ]
  },
  {
   "cell_type": "code",
   "execution_count": null,
   "metadata": {},
   "outputs": [],
   "source": [
    "df_class_megan_rain.getTitlesInDfFinal()"
   ]
  },
  {
   "attachments": {},
   "cell_type": "markdown",
   "metadata": {},
   "source": [
    "# Tanya Tate"
   ]
  },
  {
   "cell_type": "code",
   "execution_count": null,
   "metadata": {},
   "outputs": [],
   "source": [
    "from dfActualPS import dfActualPS\n",
    "actual_ps = 'Tanya Tate'\n",
    "chosen_model_brazz_site = 'https://www.brazzers.com/videos/models/449/tanya-tate/page/'\n",
    "max_page_len_of_chosen_model = [1]\n",
    "csv_final = r'/Users/joerg/repos/brazGUI/csv_data/df_final_30_05_23.csv'\n",
    "df_class_tanya_tate = dfActualPS(actual_ps, chosen_model_brazz_site, max_page_len_of_chosen_model, csv_final)"
   ]
  },
  {
   "cell_type": "code",
   "execution_count": null,
   "metadata": {},
   "outputs": [],
   "source": [
    "df_tanya_tate = df_class_tanya_tate.createDfActualPS()"
   ]
  },
  {
   "cell_type": "code",
   "execution_count": null,
   "metadata": {},
   "outputs": [],
   "source": [
    "df_class_tanya_tate.getTitlesInDfFinal()"
   ]
  },
  {
   "cell_type": "code",
   "execution_count": null,
   "metadata": {},
   "outputs": [],
   "source": [
    "df_class_tanya_tate.getMissingTitles()"
   ]
  },
  {
   "attachments": {},
   "cell_type": "markdown",
   "metadata": {},
   "source": [
    "# Abigaiil Morris"
   ]
  },
  {
   "cell_type": "code",
   "execution_count": null,
   "metadata": {},
   "outputs": [],
   "source": [
    "from dfActualPS import dfActualPS\n",
    "actual_ps = 'Abigaiil Morris'\n",
    "chosen_model_brazz_site = 'https://www.brazzers.com/videos/models/77541/abigaiil-morris/page/'\n",
    "max_page_len_of_chosen_model = [1]\n",
    "csv_final = r'/Users/joerg/repos/brazGUI/csv_data/df_final_30_05_23.csv'\n",
    "df_class_abigaiil_morris = dfActualPS(actual_ps, chosen_model_brazz_site, max_page_len_of_chosen_model, csv_final)"
   ]
  },
  {
   "cell_type": "code",
   "execution_count": null,
   "metadata": {},
   "outputs": [],
   "source": [
    "df_chosen_abigail_morris = df_class_abigaiil_morris.createDfActualPS()"
   ]
  },
  {
   "cell_type": "code",
   "execution_count": null,
   "metadata": {},
   "outputs": [],
   "source": [
    "df_class_abigaiil_morris.getTitlesInDfFinal() "
   ]
  },
  {
   "cell_type": "code",
   "execution_count": null,
   "metadata": {},
   "outputs": [],
   "source": [
    "df_class_abigaiil_morris.getMissingTitles()"
   ]
  },
  {
   "attachments": {},
   "cell_type": "markdown",
   "metadata": {},
   "source": [
    "# Bridgette B"
   ]
  },
  {
   "cell_type": "code",
   "execution_count": null,
   "metadata": {},
   "outputs": [],
   "source": [
    "from dfActualPS import dfActualPS\n",
    "actual_ps = 'Bridgette B'\n",
    "chosen_model_brazz_site = 'https://www.brazzers.com/videos/models/371/bridgette-b/page/'\n",
    "max_page_len_of_chosen_model = [5]\n",
    "csv_final = r'/Users/joerg/repos/brazGUI/csv_data/df_final_19_06_23.csv'\n",
    "df_class_bridgette_b = dfActualPS(actual_ps, chosen_model_brazz_site, max_page_len_of_chosen_model, csv_final)\n",
    "\n"
   ]
  },
  {
   "cell_type": "code",
   "execution_count": null,
   "metadata": {},
   "outputs": [],
   "source": [
    "df_bridgette_b = df_class_bridgette_b.createDfActualPS()"
   ]
  },
  {
   "cell_type": "code",
   "execution_count": null,
   "metadata": {},
   "outputs": [],
   "source": [
    "df_class_bridgette_b.getTitlesInDfFinal()"
   ]
  },
  {
   "cell_type": "code",
   "execution_count": null,
   "metadata": {},
   "outputs": [],
   "source": [
    "df_class_bridgette_b.getMissingTitles()"
   ]
  },
  {
   "cell_type": "code",
   "execution_count": null,
   "metadata": {},
   "outputs": [],
   "source": [
    "23100/3600"
   ]
  },
  {
   "cell_type": "code",
   "execution_count": null,
   "metadata": {},
   "outputs": [],
   "source": [
    "36*6"
   ]
  },
  {
   "cell_type": "code",
   "execution_count": null,
   "metadata": {},
   "outputs": [],
   "source": [
    "15*60 + 6*3600"
   ]
  },
  {
   "cell_type": "code",
   "execution_count": null,
   "metadata": {},
   "outputs": [],
   "source": [
    "23100-22500"
   ]
  },
  {
   "attachments": {},
   "cell_type": "markdown",
   "metadata": {},
   "source": [
    "# Nekane Sweet"
   ]
  },
  {
   "cell_type": "code",
   "execution_count": null,
   "metadata": {},
   "outputs": [],
   "source": [
    "from dfActualPS import dfActualPS\n",
    "actual_ps = 'Nekane Sweet'\n",
    "chosen_model_brazz_site = 'https://www.brazzers.com/videos/models/5327/nekane-sweet/page/'\n",
    "max_page_len_of_chosen_model = [1]\n",
    "csv_final = r'/Users/joerg/repos/brazGUI/csv_data/df_final_19_06_23.csv'\n",
    "df_class_nekane_sweet = dfActualPS(actual_ps, chosen_model_brazz_site, max_page_len_of_chosen_model, csv_final)"
   ]
  },
  {
   "cell_type": "code",
   "execution_count": null,
   "metadata": {},
   "outputs": [],
   "source": [
    "df_nekane_sweet = df_class_nekane_sweet.createDfActualPS()"
   ]
  },
  {
   "cell_type": "code",
   "execution_count": null,
   "metadata": {},
   "outputs": [],
   "source": [
    "df_nekane_sweet"
   ]
  },
  {
   "cell_type": "code",
   "execution_count": null,
   "metadata": {},
   "outputs": [],
   "source": [
    "df_class_nekane_sweet.getTitlesInDfFinal()"
   ]
  },
  {
   "cell_type": "code",
   "execution_count": null,
   "metadata": {},
   "outputs": [],
   "source": [
    "df_class_nekane_sweet.getMissingTitles()"
   ]
  },
  {
   "attachments": {},
   "cell_type": "markdown",
   "metadata": {},
   "source": [
    "# Adriana Chechik"
   ]
  },
  {
   "cell_type": "code",
   "execution_count": 7,
   "metadata": {},
   "outputs": [],
   "source": [
    "from dfActualPS import dfActualPS\n",
    "actual_ps = 'Adriana Chechik'\n",
    "chosen_model_brazz_site = 'https://www.brazzers.com/videos/models/61/adriana-chechik/page/'\n",
    "max_page_len_of_chosen_model = [2]\n",
    "csv_final = r'/Users/joerg/repos/brazGUI/csv_data/df_final_19_06_23.csv'\n",
    "class_adriana_chechik = dfActualPS(actual_ps, chosen_model_brazz_site, max_page_len_of_chosen_model, csv_final)"
   ]
  },
  {
   "cell_type": "code",
   "execution_count": 8,
   "metadata": {},
   "outputs": [
    {
     "name": "stdout",
     "output_type": "stream",
     "text": [
      "scanning Site: https://www.brazzers.com/videos/models/61/adriana-chechik/page/1, Response: <Response [200]>\n",
      "scanning Site: https://www.brazzers.com/videos/models/61/adriana-chechik/page/2, Response: <Response [200]>\n"
     ]
    }
   ],
   "source": [
    "df_class_adriana_chechik = class_adriana_chechik.createDfActualPS()"
   ]
  },
  {
   "cell_type": "code",
   "execution_count": 9,
   "metadata": {},
   "outputs": [
    {
     "name": "stdout",
     "output_type": "stream",
     "text": [
      "actual_ps:  Adriana Chechik\n",
      "== INFOS ABOUT THE TITLES: ==\n",
      "Count of df_current_final: 2303\n",
      "Current_titles in df_final of Adriana Chechik: 32\n",
      "Count of Adriana Chechik of braz_sides: 45\n",
      "==\n"
     ]
    },
    {
     "data": {
      "text/html": [
       "<div>\n",
       "<style scoped>\n",
       "    .dataframe tbody tr th:only-of-type {\n",
       "        vertical-align: middle;\n",
       "    }\n",
       "\n",
       "    .dataframe tbody tr th {\n",
       "        vertical-align: top;\n",
       "    }\n",
       "\n",
       "    .dataframe thead th {\n",
       "        text-align: right;\n",
       "    }\n",
       "</style>\n",
       "<table border=\"1\" class=\"dataframe\">\n",
       "  <thead>\n",
       "    <tr style=\"text-align: right;\">\n",
       "      <th></th>\n",
       "      <th>Title</th>\n",
       "    </tr>\n",
       "  </thead>\n",
       "  <tbody>\n",
       "    <tr>\n",
       "      <th>546</th>\n",
       "      <td>living_in_an_anal_paradise_720p</td>\n",
       "    </tr>\n",
       "    <tr>\n",
       "      <th>638</th>\n",
       "      <td>cum_thru_2_720p</td>\n",
       "    </tr>\n",
       "    <tr>\n",
       "      <th>639</th>\n",
       "      <td>emergency_squirter_720p</td>\n",
       "    </tr>\n",
       "    <tr>\n",
       "      <th>640</th>\n",
       "      <td>lessons_from_the_champ_720p</td>\n",
       "    </tr>\n",
       "    <tr>\n",
       "      <th>641</th>\n",
       "      <td>prime_suspect_pounding_720p</td>\n",
       "    </tr>\n",
       "    <tr>\n",
       "      <th>642</th>\n",
       "      <td>splooge_on_me_ill_squirt_you_back_720p</td>\n",
       "    </tr>\n",
       "    <tr>\n",
       "      <th>643</th>\n",
       "      <td>feeling_720p</td>\n",
       "    </tr>\n",
       "    <tr>\n",
       "      <th>644</th>\n",
       "      <td>the_ass_on_adriana_720p</td>\n",
       "    </tr>\n",
       "    <tr>\n",
       "      <th>645</th>\n",
       "      <td>the_lusting_librarian_720p</td>\n",
       "    </tr>\n",
       "    <tr>\n",
       "      <th>646</th>\n",
       "      <td>the_malcontent_mistress_part_2_720p</td>\n",
       "    </tr>\n",
       "    <tr>\n",
       "      <th>647</th>\n",
       "      <td>what_wifey_wants_720p</td>\n",
       "    </tr>\n",
       "    <tr>\n",
       "      <th>827</th>\n",
       "      <td>madison_and_adriana_720p</td>\n",
       "    </tr>\n",
       "    <tr>\n",
       "      <th>837</th>\n",
       "      <td>give_the_gift_of_dick_720p</td>\n",
       "    </tr>\n",
       "    <tr>\n",
       "      <th>863</th>\n",
       "      <td>porn_preference_test_720p</td>\n",
       "    </tr>\n",
       "    <tr>\n",
       "      <th>864</th>\n",
       "      <td>the_fever_dream_720p</td>\n",
       "    </tr>\n",
       "    <tr>\n",
       "      <th>865</th>\n",
       "      <td>the_great_doctor_part_one_720p</td>\n",
       "    </tr>\n",
       "    <tr>\n",
       "      <th>866</th>\n",
       "      <td>the_great_doctor_part_two_720p</td>\n",
       "    </tr>\n",
       "    <tr>\n",
       "      <th>1260</th>\n",
       "      <td>free_flowing_fuck_720p</td>\n",
       "    </tr>\n",
       "    <tr>\n",
       "      <th>1261</th>\n",
       "      <td>shut_up_and_fuck_me_720p</td>\n",
       "    </tr>\n",
       "    <tr>\n",
       "      <th>1262</th>\n",
       "      <td>whats_up_her_ass_720p</td>\n",
       "    </tr>\n",
       "    <tr>\n",
       "      <th>1407</th>\n",
       "      <td>the_dinner_party_1080p</td>\n",
       "    </tr>\n",
       "    <tr>\n",
       "      <th>1408</th>\n",
       "      <td>warm_welcum_720p</td>\n",
       "    </tr>\n",
       "    <tr>\n",
       "      <th>1409</th>\n",
       "      <td>our_sons_girlfriend_1080p</td>\n",
       "    </tr>\n",
       "    <tr>\n",
       "      <th>1410</th>\n",
       "      <td>he_makes_wifey_watch_720p</td>\n",
       "    </tr>\n",
       "    <tr>\n",
       "      <th>1419</th>\n",
       "      <td>squirting_swingers_720p</td>\n",
       "    </tr>\n",
       "    <tr>\n",
       "      <th>1586</th>\n",
       "      <td>ostara_1080p</td>\n",
       "    </tr>\n",
       "    <tr>\n",
       "      <th>1726</th>\n",
       "      <td>making_her_drip_1080p</td>\n",
       "    </tr>\n",
       "    <tr>\n",
       "      <th>1777</th>\n",
       "      <td>dont_you_dare_ignore_my_ass_1080p</td>\n",
       "    </tr>\n",
       "    <tr>\n",
       "      <th>1778</th>\n",
       "      <td>fucking_fired_1080p</td>\n",
       "    </tr>\n",
       "    <tr>\n",
       "      <th>1779</th>\n",
       "      <td>that_warm_and_fuzzy_feeling_1080p</td>\n",
       "    </tr>\n",
       "    <tr>\n",
       "      <th>1780</th>\n",
       "      <td>the_malcontent_mistress_part_2_1080p</td>\n",
       "    </tr>\n",
       "    <tr>\n",
       "      <th>2184</th>\n",
       "      <td>stop_and_go_hoe_1080p</td>\n",
       "    </tr>\n",
       "  </tbody>\n",
       "</table>\n",
       "</div>"
      ],
      "text/plain": [
       "                                       Title\n",
       "546          living_in_an_anal_paradise_720p\n",
       "638                          cum_thru_2_720p\n",
       "639                  emergency_squirter_720p\n",
       "640              lessons_from_the_champ_720p\n",
       "641              prime_suspect_pounding_720p\n",
       "642   splooge_on_me_ill_squirt_you_back_720p\n",
       "643                             feeling_720p\n",
       "644                  the_ass_on_adriana_720p\n",
       "645               the_lusting_librarian_720p\n",
       "646      the_malcontent_mistress_part_2_720p\n",
       "647                    what_wifey_wants_720p\n",
       "827                 madison_and_adriana_720p\n",
       "837               give_the_gift_of_dick_720p\n",
       "863                porn_preference_test_720p\n",
       "864                     the_fever_dream_720p\n",
       "865           the_great_doctor_part_one_720p\n",
       "866           the_great_doctor_part_two_720p\n",
       "1260                  free_flowing_fuck_720p\n",
       "1261                shut_up_and_fuck_me_720p\n",
       "1262                   whats_up_her_ass_720p\n",
       "1407                  the_dinner_party_1080p\n",
       "1408                        warm_welcum_720p\n",
       "1409               our_sons_girlfriend_1080p\n",
       "1410               he_makes_wifey_watch_720p\n",
       "1419                 squirting_swingers_720p\n",
       "1586                            ostara_1080p\n",
       "1726                   making_her_drip_1080p\n",
       "1777       dont_you_dare_ignore_my_ass_1080p\n",
       "1778                     fucking_fired_1080p\n",
       "1779       that_warm_and_fuzzy_feeling_1080p\n",
       "1780    the_malcontent_mistress_part_2_1080p\n",
       "2184                   stop_and_go_hoe_1080p"
      ]
     },
     "execution_count": 9,
     "metadata": {},
     "output_type": "execute_result"
    }
   ],
   "source": [
    "class_adriana_chechik.getTitlesInDfFinal()"
   ]
  },
  {
   "cell_type": "code",
   "execution_count": 10,
   "metadata": {},
   "outputs": [
    {
     "name": "stdout",
     "output_type": "stream",
     "text": [
      "Chosen PS:  Adriana Chechik\n"
     ]
    },
    {
     "data": {
      "text/plain": [
       "['popping_off_the_best_of_cumshots',\n",
       " 'shes_gonna_cum_the_best_of_female_orgasm',\n",
       " 'best_of_zz_fully_stuffed_dps',\n",
       " 'best_of_zz_all_out_anal',\n",
       " 'best_of_brazzers_soaking_wet',\n",
       " 'best_of_brazzers_fantastic_facials',\n",
       " 'our_sons_girlfriend_remastered',\n",
       " 'best_of_brazzers_squirt_fest',\n",
       " 'best_of_brazzers_nurse_appreciation_day',\n",
       " 'the_malcontent_mistress_part_1',\n",
       " 'breaking_and_scissoring',\n",
       " 'what_do_you_think_youre_doing',\n",
       " 'profundamente_enamorada_de_su_puno',\n",
       " 'never_get_married_the_aftermath',\n",
       " 'beautifully_sloppy',\n",
       " 'deep_in_love_with_her_fist']"
      ]
     },
     "execution_count": 10,
     "metadata": {},
     "output_type": "execute_result"
    }
   ],
   "source": [
    "class_adriana_chechik.getMissingTitles()"
   ]
  },
  {
   "attachments": {},
   "cell_type": "markdown",
   "metadata": {},
   "source": [
    "### Lylith Lavey"
   ]
  },
  {
   "cell_type": "code",
   "execution_count": 1,
   "metadata": {},
   "outputs": [],
   "source": [
    "from dfActualPS import dfActualPS\n",
    "actual_ps = 'Lylith Lavey'\n",
    "chosen_model_brazz_site = 'https://www.brazzers.com/videos/models/8951/lylith-lavey/page/'\n",
    "max_page_len_of_chosen_model = [1]\n",
    "csv_final = r'/Users/joerg/repos/brazGUI/csv_data/df_final_13_07_23.csv'\n",
    "class_lylith_lavey = dfActualPS(actual_ps, chosen_model_brazz_site, max_page_len_of_chosen_model, csv_final)"
   ]
  },
  {
   "cell_type": "code",
   "execution_count": 2,
   "metadata": {},
   "outputs": [
    {
     "name": "stdout",
     "output_type": "stream",
     "text": [
      "scanning Site: https://www.brazzers.com/videos/models/8951/lylith-lavey/page/1, Response: <Response [200]>\n"
     ]
    }
   ],
   "source": [
    "df_lylith_lavey = class_lylith_lavey.createDfActualPS()"
   ]
  },
  {
   "cell_type": "code",
   "execution_count": 3,
   "metadata": {},
   "outputs": [
    {
     "name": "stdout",
     "output_type": "stream",
     "text": [
      "actual_ps:  Lylith Lavey\n",
      "== INFOS ABOUT THE TITLES: ==\n",
      "Count of df_current_final: 2314\n",
      "Current_titles in df_final of Lylith Lavey: 5\n",
      "Count of Lylith Lavey of braz_sides: 18\n",
      "==\n"
     ]
    },
    {
     "data": {
      "text/html": [
       "<div>\n",
       "<style scoped>\n",
       "    .dataframe tbody tr th:only-of-type {\n",
       "        vertical-align: middle;\n",
       "    }\n",
       "\n",
       "    .dataframe tbody tr th {\n",
       "        vertical-align: top;\n",
       "    }\n",
       "\n",
       "    .dataframe thead th {\n",
       "        text-align: right;\n",
       "    }\n",
       "</style>\n",
       "<table border=\"1\" class=\"dataframe\">\n",
       "  <thead>\n",
       "    <tr style=\"text-align: right;\">\n",
       "      <th></th>\n",
       "      <th>Title</th>\n",
       "    </tr>\n",
       "  </thead>\n",
       "  <tbody>\n",
       "    <tr>\n",
       "      <th>1577</th>\n",
       "      <td>double_dare_ya_1080p</td>\n",
       "    </tr>\n",
       "    <tr>\n",
       "      <th>1610</th>\n",
       "      <td>hitched_and_ditched_1080p</td>\n",
       "    </tr>\n",
       "    <tr>\n",
       "      <th>1688</th>\n",
       "      <td>overtime_tits_1080p</td>\n",
       "    </tr>\n",
       "    <tr>\n",
       "      <th>1767</th>\n",
       "      <td>rip_my_yoga_pants_1080p</td>\n",
       "    </tr>\n",
       "    <tr>\n",
       "      <th>2226</th>\n",
       "      <td>fucking_mr_fix_it_1080p</td>\n",
       "    </tr>\n",
       "  </tbody>\n",
       "</table>\n",
       "</div>"
      ],
      "text/plain": [
       "                          Title\n",
       "1577       double_dare_ya_1080p\n",
       "1610  hitched_and_ditched_1080p\n",
       "1688        overtime_tits_1080p\n",
       "1767    rip_my_yoga_pants_1080p\n",
       "2226    fucking_mr_fix_it_1080p"
      ]
     },
     "execution_count": 3,
     "metadata": {},
     "output_type": "execute_result"
    }
   ],
   "source": [
    "class_lylith_lavey.getTitlesInDfFinal()"
   ]
  },
  {
   "cell_type": "code",
   "execution_count": 4,
   "metadata": {},
   "outputs": [
    {
     "name": "stdout",
     "output_type": "stream",
     "text": [
      "Chosen PS:  Lylith Lavey\n"
     ]
    },
    {
     "data": {
      "text/plain": [
       "['does_this_look_real',\n",
       " 'the_hottest_yoga',\n",
       " 'peeping_john',\n",
       " 'fucking_for_fashion',\n",
       " 'emergency_call',\n",
       " 'field_of_reams',\n",
       " 'you_massage_so_show_me',\n",
       " 'guess_whos_cumming_for_dinner',\n",
       " 'se_x_rays',\n",
       " 'i_love_my_blowjob',\n",
       " 'obstacle_cunts',\n",
       " 'role_pussy_play',\n",
       " 'something_smells_like_good_sex']"
      ]
     },
     "execution_count": 4,
     "metadata": {},
     "output_type": "execute_result"
    }
   ],
   "source": [
    "class_lylith_lavey.getMissingTitles()"
   ]
  },
  {
   "cell_type": "code",
   "execution_count": null,
   "metadata": {},
   "outputs": [],
   "source": []
  },
  {
   "cell_type": "markdown",
   "metadata": {},
   "source": [
    "### Cherie Deville"
   ]
  },
  {
   "cell_type": "code",
   "execution_count": 1,
   "metadata": {},
   "outputs": [],
   "source": [
    "from dfActualPS import dfActualPS\n",
    "actual_ps = 'Cherie Deville'\n",
    "chosen_model_brazz_site = 'https://www.brazzers.com/videos/models/1661/cherie-deville/page/'\n",
    "max_page_len_of_chosen_model = [4]\n",
    "csv_final = r'/Users/joerg/repos/brazGUI/csv_data/df_final_13_07_23.csv'\n",
    "cherie_deville = dfActualPS(actual_ps, chosen_model_brazz_site, max_page_len_of_chosen_model, csv_final)"
   ]
  },
  {
   "cell_type": "code",
   "execution_count": 2,
   "metadata": {},
   "outputs": [
    {
     "name": "stdout",
     "output_type": "stream",
     "text": [
      "scanning Site: https://www.brazzers.com/videos/models/1661/cherie-deville/page/1, Response: <Response [200]>\n",
      "scanning Site: https://www.brazzers.com/videos/models/1661/cherie-deville/page/2, Response: <Response [200]>\n",
      "scanning Site: https://www.brazzers.com/videos/models/1661/cherie-deville/page/3, Response: <Response [200]>\n",
      "scanning Site: https://www.brazzers.com/videos/models/1661/cherie-deville/page/4, Response: <Response [200]>\n"
     ]
    }
   ],
   "source": [
    "df_cherie_deville = cherie_deville.createDfActualPS()"
   ]
  },
  {
   "cell_type": "code",
   "execution_count": 4,
   "metadata": {},
   "outputs": [
    {
     "name": "stdout",
     "output_type": "stream",
     "text": [
      "actual_ps:  Cherie Deville\n",
      "== INFOS ABOUT THE TITLES: ==\n",
      "Count of df_current_final: 2323\n",
      "Current_titles in df_final of Cherie Deville: 5\n",
      "Count of Cherie Deville of braz_sides: 80\n",
      "==\n"
     ]
    },
    {
     "data": {
      "text/html": [
       "<div>\n",
       "<style scoped>\n",
       "    .dataframe tbody tr th:only-of-type {\n",
       "        vertical-align: middle;\n",
       "    }\n",
       "\n",
       "    .dataframe tbody tr th {\n",
       "        vertical-align: top;\n",
       "    }\n",
       "\n",
       "    .dataframe thead th {\n",
       "        text-align: right;\n",
       "    }\n",
       "</style>\n",
       "<table border=\"1\" class=\"dataframe\">\n",
       "  <thead>\n",
       "    <tr style=\"text-align: right;\">\n",
       "      <th></th>\n",
       "      <th>Title</th>\n",
       "    </tr>\n",
       "  </thead>\n",
       "  <tbody>\n",
       "    <tr>\n",
       "      <th>1235</th>\n",
       "      <td>a_double_milf_stack_720p</td>\n",
       "    </tr>\n",
       "    <tr>\n",
       "      <th>1837</th>\n",
       "      <td>shadowing_the_workplace_slut_1080p</td>\n",
       "    </tr>\n",
       "    <tr>\n",
       "      <th>1863</th>\n",
       "      <td>hot_for_the_head_chef_1080p</td>\n",
       "    </tr>\n",
       "    <tr>\n",
       "      <th>1864</th>\n",
       "      <td>one_night_done_airtight_1080p</td>\n",
       "    </tr>\n",
       "    <tr>\n",
       "      <th>2076</th>\n",
       "      <td>double_stuffed_720p</td>\n",
       "    </tr>\n",
       "  </tbody>\n",
       "</table>\n",
       "</div>"
      ],
      "text/plain": [
       "                                   Title\n",
       "1235            a_double_milf_stack_720p\n",
       "1837  shadowing_the_workplace_slut_1080p\n",
       "1863         hot_for_the_head_chef_1080p\n",
       "1864       one_night_done_airtight_1080p\n",
       "2076                 double_stuffed_720p"
      ]
     },
     "execution_count": 4,
     "metadata": {},
     "output_type": "execute_result"
    }
   ],
   "source": [
    "cherie_deville.getTitlesInDfFinal()"
   ]
  },
  {
   "cell_type": "code",
   "execution_count": 5,
   "metadata": {},
   "outputs": [
    {
     "name": "stdout",
     "output_type": "stream",
     "text": [
      "Chosen PS:  Cherie Deville\n"
     ]
    },
    {
     "data": {
      "text/plain": [
       "['step_family_summer_vacation_part_3',\n",
       " 'step_family_summer_vacation_part_1',\n",
       " 'the_big_titty_milf_off',\n",
       " 'choking_housewives_pussy_party',\n",
       " 'welcome_to_cougar_college',\n",
       " 'freeuse_yoga_and_shower_fuck',\n",
       " 'stepmoms_bath_turns_into_a_threesome_smash',\n",
       " 'a_peg_on_the_corporate_ladder',\n",
       " 'i_wanna_fuck_your_mom',\n",
       " 'classy_suburban_wifes_cum_obsession',\n",
       " 'fast_times_at_the_sloppy_salon',\n",
       " 'the_mating_game_part_1',\n",
       " 'awakening_deville',\n",
       " 'put_it_in_me_coach',\n",
       " 'e_girl_gets_dd_while_milf_jerks_cleans',\n",
       " 'anatomy_of_a_sex_scene_milf_edition',\n",
       " 'cum_again',\n",
       " 'i_ordered_a_cheriedroid',\n",
       " 'three_for_the_road',\n",
       " 'kinky_secrets_of_the_suburbs_part_4',\n",
       " 'kinky_secrets_of_the_suburbs_part_1',\n",
       " 'cherie_deville_prim_and_primal',\n",
       " 'you_need_to_fuck_everyone_in_this_house',\n",
       " 'willing_to_pay',\n",
       " 'cub_hunter',\n",
       " 'fertility_clinic_dickdown',\n",
       " 'clay_mates',\n",
       " 'fucking_two_blond_bombshells',\n",
       " 'in_her_thighs',\n",
       " 'veiled_deville',\n",
       " 'meet_the_sneaky_cheaters_part_1',\n",
       " 'working_for_a_milf',\n",
       " 'let_cherie_in',\n",
       " 'cherie_and_jenna_get_off_online',\n",
       " 'best_of_brazzers_fantastic_facials',\n",
       " 'stuck_on_your_mom',\n",
       " 'home_alone_with_cherie',\n",
       " 'cumplimentary_training_session',\n",
       " 'bohemian_asspussy',\n",
       " 'getting_even_and_getting_laid',\n",
       " 'cherie_peeping',\n",
       " 'ill_show_you_how_its_done',\n",
       " 'got_milf',\n",
       " 'high_sexpectations',\n",
       " 'spring_cumming',\n",
       " 'accidental_adultery',\n",
       " 'the_mad_dr_deville',\n",
       " 'sneaking_around_with_her_bf_fs_son',\n",
       " 'my_stepmom_is_a_sex_fiend',\n",
       " 'plasster_cast',\n",
       " 'strictly_hardcore',\n",
       " 'cumming_at_customs',\n",
       " 'fucking_millennials',\n",
       " 'cosplay_with_my_ass',\n",
       " 'dont_toy_with_me',\n",
       " 'sex_addicts_anonymous',\n",
       " 'moms_got_a_meeting',\n",
       " 'i_like_creeps',\n",
       " 'zz_erection_2016_part_4',\n",
       " 'blind_experiment_2',\n",
       " 'zz_erection_2016_part_1',\n",
       " 'pornstar_fantasies',\n",
       " 'enfermere_traviesa_esposa_caliente',\n",
       " 'my_wifes_boss',\n",
       " 'getting_laid_off',\n",
       " 'a_movie_date_dicking',\n",
       " 'massage_my_mother_in_law',\n",
       " 'stalk_the_cock',\n",
       " 'minivan_milf_muff',\n",
       " 'a_fine_evening_with_missus_deville',\n",
       " 'americas_secret_sweetheart',\n",
       " 'cheating_on_her_wife',\n",
       " 'moving_in',\n",
       " 'dr_spankencocks_sexperiments',\n",
       " 'role_research']"
      ]
     },
     "execution_count": 5,
     "metadata": {},
     "output_type": "execute_result"
    }
   ],
   "source": [
    "cherie_deville.getMissingTitles()"
   ]
  },
  {
   "cell_type": "code",
   "execution_count": null,
   "metadata": {},
   "outputs": [],
   "source": []
  }
 ],
 "metadata": {
  "kernelspec": {
   "display_name": "Python 3.10.4 ('python38_jl30')",
   "language": "python",
   "name": "python3"
  },
  "language_info": {
   "codemirror_mode": {
    "name": "ipython",
    "version": 3
   },
   "file_extension": ".py",
   "mimetype": "text/x-python",
   "name": "python",
   "nbconvert_exporter": "python",
   "pygments_lexer": "ipython3",
   "version": "3.10.6"
  },
  "orig_nbformat": 4,
  "vscode": {
   "interpreter": {
    "hash": "ab9b286e846729a0acf555c2625dc168e68acadfcc90dc39a1ada8e6702cc6ed"
   }
  }
 },
 "nbformat": 4,
 "nbformat_minor": 2
}
